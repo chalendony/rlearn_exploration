{
 "cells": [
  {
   "cell_type": "markdown",
   "metadata": {
    "heading_collapsed": true
   },
   "source": [
    "# OUTLINE\n",
    "\n",
    "[Exploratory Data Analysis](https://en.wikipedia.org/wiki/Exploratory_data_analysis) (EDA) is an approach to analyzing data sets to summarize and understand their main characteristics, often with visual methods.\n",
    "\n",
    "EDA is a crucial step, where you will spend most of your time. Use your  your *Machine Learning Checklist* to guide you during the process. If you do not already have a checklist, here is one from [Aurélien Géron](10_20_2018_Machine-Learning-Project-Checklist.txt) that you can adapt to your needs.   \n",
    "\n",
    "In these series of notebooks, we explore the Home Credit data set; cleansing, preprocessing and \n",
    "visualizing the data for downstream processes of a Data Science Workflow.  You can obtain all \n",
    "notebooks from [Github](https://github.com/chalendony/data-prep-visualization).\n",
    "\n",
    "* [Python Imports](#Python-Imports)\n",
    "\n",
    "\n",
    "* [Setup](#Setup)\n",
    "    * Jupyter Extensions -- Scratchpad ...\n",
    "    * Overview Data Set\n",
    "    * Data Repository -- Quilt\n",
    "\n",
    "* [Validate Data Types](#Validate-Data-Types)\n",
    "\n",
    "\n",
    "* [Visualize Missing Data](#Visualize-Missing-Data)\n",
    "    * Patterns in Missing Data -- missingno\n",
    "    * Percent Missing\n",
    "    \n",
    "* [Discussion: Handling Missing Data](#Discussion:-Handling-Missing-Data)\n",
    "\n",
    "\n",
    "* [Missing Numerical : Advances Exercise](#Missing-Numerical-:-Advanced-Exercise)\n",
    "\n",
    "\n",
    "**--------- CHOOSE YOUR TOPIC ------------**\n",
    "\n",
    "* [Simple Impute](#Exercise:-SimpleImpute-for-Categorical)\n",
    "* [Neural Net to Impute Categoricals -- DataWig](Impute%20Categorical%20with%20DataWig.ipynb)\n",
    "* [Impute Categorical: fastKNN](http://localhost:8888/notebooks/Impuyte%20fastKNN%20to%20Impute%20Missing%20Data.ipynb) -- Fill in missing code\n",
    "* Impute Numerical: Neural Network - Self Guided \n",
    "* [Automatic Feature Generation -- Featuretools](Automated%20Feature%20Engineering%20with%20Featuretools.ipynb)\n",
    "* [Piplelines](Pipeline.ipynb)\n",
    "    * Feature Union\n",
    "    * Column Transform\n",
    "* [Reshaping Dataframes -- Self Assessment](Reshaping%20Dataframes%20Exercises.ipynb#Question-9:)\n",
    "* [Groupby](Groupby.ipynb)\n",
    "* [Indexing and Reshaping Dataframes](Indexing%20and%20Reshaping%20Dataframes.ipynb)\n",
    "* [Interactive Visualizaton - Plotly](Interactive%20Visualization.ipynb)\n"
   ]
  },
  {
   "cell_type": "markdown",
   "metadata": {},
   "source": [
    "# Python Imports"
   ]
  },
  {
   "cell_type": "code",
   "execution_count": 5,
   "metadata": {},
   "outputs": [],
   "source": [
    "import os\n",
    "import sys\n",
    "module_path = os.path.abspath(os.path.join('..'))\n",
    "if module_path not in sys.path:\n",
    "    sys.path.append(module_path)\n",
    "    \n",
    "import pandas as pd\n",
    "import numpy as np\n",
    "from sklearn.impute import SimpleImputer\n",
    "pd.set_option('display.max_columns', 125)\n",
    "import quilt\n",
    "from scripts.preprocess import percent_missing, as_dict\n",
    "from string import Template\n",
    "import missingno as msno\n",
    "%matplotlib inline"
   ]
  },
  {
   "cell_type": "markdown",
   "metadata": {},
   "source": [
    "# Setup"
   ]
  },
  {
   "cell_type": "markdown",
   "metadata": {},
   "source": [
    "## Jupyter Extensions\n",
    "\n",
    "* Several Jupyter Notebook extensions will be useful for this workshop:\n",
    "    * Table of Contents : navigate the notebook topics\n",
    "    * Exercise : completing inline exercises\n",
    "    * [Scratchpad](http://localhost:8888/notebooks/Data%20Cleansing.ipynb): execute code against the current kernel without modifying the notebook document\n",
    "\n",
    "\n",
    "__Ensure these extensions are working.__"
   ]
  },
  {
   "cell_type": "markdown",
   "metadata": {},
   "source": [
    "## Overview Data Set\n",
    "\n",
    "The [data](https://www.kaggle.com/c/home-credit-default-risk/data) is provided by Home Credit,  a service dedicated to providing loans. \n",
    "\n",
    "![home_credit.png](images/home_credit.png)"
   ]
  },
  {
   "cell_type": "markdown",
   "metadata": {},
   "source": [
    "## Data Repository - _Quilt_\n",
    "\n",
    "* You probably perform most of your analysis locally, but cloud-based workflows have benefits\n",
    "* Will our day-to-day workflow become cloud-native? ... Time will tell, so stay tuned!\n",
    "* __NOTE:__ since we are using publc data that is  __*not*__  sensitive, we can use a public cloud\n",
    "* The environment for this workshop looks like this: \n",
    "\n",
    "![workshop_env.png](images/workshop_env.png)"
   ]
  },
  {
   "cell_type": "markdown",
   "metadata": {},
   "source": [
    "###  Install Quilt Package in Local Repository\n",
    "\n",
    "* Install the package in a local repository on your machine,  __once, per version of the data__ \n",
    "* Use a hash, if you want to download a specific  version of the data"
   ]
  },
  {
   "cell_type": "code",
   "execution_count": 7,
   "metadata": {},
   "outputs": [
    {
     "name": "stdout",
     "output_type": "stream",
     "text": [
      "Downloading package metadata...\n"
     ]
    },
    {
     "name": "stderr",
     "output_type": "stream",
     "text": [
      "  0%|          | 0.00/707M [00:00<?, ?B/s]"
     ]
    },
    {
     "name": "stdout",
     "output_type": "stream",
     "text": [
      "Downloading 7 fragments (707098199 bytes before compression)...\n"
     ]
    },
    {
     "name": "stderr",
     "output_type": "stream",
     "text": [
      "100%|██████████| 707M/707M [02:58<00:00, 3.96MB/s] \n"
     ]
    }
   ],
   "source": [
    "quilt.install(\"avare/homecredit\", hash=\"1266d85da94de98efe04a61beb6b028db90ad703155b28b550fbfb79e9b8fb7e\")"
   ]
  },
  {
   "cell_type": "markdown",
   "metadata": {},
   "source": [
    "### Import Quilt Packages from Local Repository "
   ]
  },
  {
   "cell_type": "code",
   "execution_count": 1,
   "metadata": {},
   "outputs": [],
   "source": [
    "from quilt.data.avare import homecredit"
   ]
  },
  {
   "cell_type": "markdown",
   "metadata": {},
   "source": [
    "### Working with a Quilt Package\n",
    "\n",
    "\n",
    "_What have we just imported, what is in the Quilt `homecredit` package?_\n",
    "\n",
    "* The metaphor used by Quilt is similar to the tree structre of a filesystem on your computer\n",
    "* `avare` is a user, and under this user, there is a pacakge: `homecredit`\n",
    "* Inside the `homecredit` package, there are several nodes \n",
    "* In this repository, the nodes are all python dataframes\n",
    "\n",
    "Links:\n",
    "\n",
    "* [Working with Quilt](https://github.com/quiltdata/quilt/blob/master/docs/api-python.md#work-with-package-contents)\n",
    "\n",
    "* [Quilt Python API](https://github.com/quiltdata/quilt/blob/master/docs/api-python.md#python-api)\n"
   ]
  },
  {
   "cell_type": "code",
   "execution_count": 2,
   "metadata": {},
   "outputs": [
    {
     "data": {
      "text/plain": [
       "<GroupNode>\n",
       "POS_CASH_balance\n",
       "application_train\n",
       "bureau\n",
       "bureau_balance\n",
       "credit_card_balance\n",
       "installments_payments\n",
       "previous_application"
      ]
     },
     "execution_count": 2,
     "metadata": {},
     "output_type": "execute_result"
    }
   ],
   "source": [
    "homecredit"
   ]
  },
  {
   "cell_type": "markdown",
   "metadata": {},
   "source": [
    "###  Working with Quilt Dataframes\n",
    "\n",
    "* Quilt uses parenthesis to access a dataframes in a package\n",
    "* Otherwise, we are just handling a Pandas dataframe\n",
    "* Note: your changes to the Quilt dataframes only exist in memory, until you use the Quilt API to `build` and `push`. For an exmaple, see: [QuiltSetup](Quilt%20Setup%20HomeCredit%20Data.ipynb)"
   ]
  },
  {
   "cell_type": "code",
   "execution_count": 3,
   "metadata": {},
   "outputs": [
    {
     "data": {
      "text/html": [
       "<div>\n",
       "<style scoped>\n",
       "    .dataframe tbody tr th:only-of-type {\n",
       "        vertical-align: middle;\n",
       "    }\n",
       "\n",
       "    .dataframe tbody tr th {\n",
       "        vertical-align: top;\n",
       "    }\n",
       "\n",
       "    .dataframe thead th {\n",
       "        text-align: right;\n",
       "    }\n",
       "</style>\n",
       "<table border=\"1\" class=\"dataframe\">\n",
       "  <thead>\n",
       "    <tr style=\"text-align: right;\">\n",
       "      <th></th>\n",
       "      <th>SK_ID_CURR</th>\n",
       "      <th>TARGET</th>\n",
       "      <th>NAME_CONTRACT_TYPE</th>\n",
       "      <th>CODE_GENDER</th>\n",
       "      <th>FLAG_OWN_CAR</th>\n",
       "      <th>FLAG_OWN_REALTY</th>\n",
       "      <th>CNT_CHILDREN</th>\n",
       "      <th>AMT_INCOME_TOTAL</th>\n",
       "      <th>AMT_CREDIT</th>\n",
       "      <th>AMT_ANNUITY</th>\n",
       "      <th>...</th>\n",
       "      <th>FLAG_DOCUMENT_18</th>\n",
       "      <th>FLAG_DOCUMENT_19</th>\n",
       "      <th>FLAG_DOCUMENT_20</th>\n",
       "      <th>FLAG_DOCUMENT_21</th>\n",
       "      <th>AMT_REQ_CREDIT_BUREAU_HOUR</th>\n",
       "      <th>AMT_REQ_CREDIT_BUREAU_DAY</th>\n",
       "      <th>AMT_REQ_CREDIT_BUREAU_WEEK</th>\n",
       "      <th>AMT_REQ_CREDIT_BUREAU_MON</th>\n",
       "      <th>AMT_REQ_CREDIT_BUREAU_QRT</th>\n",
       "      <th>AMT_REQ_CREDIT_BUREAU_YEAR</th>\n",
       "    </tr>\n",
       "  </thead>\n",
       "  <tbody>\n",
       "    <tr>\n",
       "      <th>0</th>\n",
       "      <td>100002</td>\n",
       "      <td>1</td>\n",
       "      <td>Cash loans</td>\n",
       "      <td>M</td>\n",
       "      <td>N</td>\n",
       "      <td>Y</td>\n",
       "      <td>0</td>\n",
       "      <td>202500.0</td>\n",
       "      <td>406597.5</td>\n",
       "      <td>24700.5</td>\n",
       "      <td>...</td>\n",
       "      <td>0</td>\n",
       "      <td>0</td>\n",
       "      <td>0</td>\n",
       "      <td>0</td>\n",
       "      <td>0.0</td>\n",
       "      <td>0.0</td>\n",
       "      <td>0.0</td>\n",
       "      <td>0.0</td>\n",
       "      <td>0.0</td>\n",
       "      <td>1.0</td>\n",
       "    </tr>\n",
       "    <tr>\n",
       "      <th>1</th>\n",
       "      <td>100003</td>\n",
       "      <td>0</td>\n",
       "      <td>Cash loans</td>\n",
       "      <td>F</td>\n",
       "      <td>N</td>\n",
       "      <td>N</td>\n",
       "      <td>0</td>\n",
       "      <td>270000.0</td>\n",
       "      <td>1293502.5</td>\n",
       "      <td>35698.5</td>\n",
       "      <td>...</td>\n",
       "      <td>0</td>\n",
       "      <td>0</td>\n",
       "      <td>0</td>\n",
       "      <td>0</td>\n",
       "      <td>0.0</td>\n",
       "      <td>0.0</td>\n",
       "      <td>0.0</td>\n",
       "      <td>0.0</td>\n",
       "      <td>0.0</td>\n",
       "      <td>0.0</td>\n",
       "    </tr>\n",
       "    <tr>\n",
       "      <th>2</th>\n",
       "      <td>100004</td>\n",
       "      <td>0</td>\n",
       "      <td>Revolving loans</td>\n",
       "      <td>M</td>\n",
       "      <td>Y</td>\n",
       "      <td>Y</td>\n",
       "      <td>0</td>\n",
       "      <td>67500.0</td>\n",
       "      <td>135000.0</td>\n",
       "      <td>6750.0</td>\n",
       "      <td>...</td>\n",
       "      <td>0</td>\n",
       "      <td>0</td>\n",
       "      <td>0</td>\n",
       "      <td>0</td>\n",
       "      <td>0.0</td>\n",
       "      <td>0.0</td>\n",
       "      <td>0.0</td>\n",
       "      <td>0.0</td>\n",
       "      <td>0.0</td>\n",
       "      <td>0.0</td>\n",
       "    </tr>\n",
       "    <tr>\n",
       "      <th>3</th>\n",
       "      <td>100006</td>\n",
       "      <td>0</td>\n",
       "      <td>Cash loans</td>\n",
       "      <td>F</td>\n",
       "      <td>N</td>\n",
       "      <td>Y</td>\n",
       "      <td>0</td>\n",
       "      <td>135000.0</td>\n",
       "      <td>312682.5</td>\n",
       "      <td>29686.5</td>\n",
       "      <td>...</td>\n",
       "      <td>0</td>\n",
       "      <td>0</td>\n",
       "      <td>0</td>\n",
       "      <td>0</td>\n",
       "      <td>NaN</td>\n",
       "      <td>NaN</td>\n",
       "      <td>NaN</td>\n",
       "      <td>NaN</td>\n",
       "      <td>NaN</td>\n",
       "      <td>NaN</td>\n",
       "    </tr>\n",
       "    <tr>\n",
       "      <th>4</th>\n",
       "      <td>100007</td>\n",
       "      <td>0</td>\n",
       "      <td>Cash loans</td>\n",
       "      <td>M</td>\n",
       "      <td>N</td>\n",
       "      <td>Y</td>\n",
       "      <td>0</td>\n",
       "      <td>121500.0</td>\n",
       "      <td>513000.0</td>\n",
       "      <td>21865.5</td>\n",
       "      <td>...</td>\n",
       "      <td>0</td>\n",
       "      <td>0</td>\n",
       "      <td>0</td>\n",
       "      <td>0</td>\n",
       "      <td>0.0</td>\n",
       "      <td>0.0</td>\n",
       "      <td>0.0</td>\n",
       "      <td>0.0</td>\n",
       "      <td>0.0</td>\n",
       "      <td>0.0</td>\n",
       "    </tr>\n",
       "  </tbody>\n",
       "</table>\n",
       "<p>5 rows × 122 columns</p>\n",
       "</div>"
      ],
      "text/plain": [
       "   SK_ID_CURR  TARGET NAME_CONTRACT_TYPE CODE_GENDER FLAG_OWN_CAR  \\\n",
       "0      100002       1         Cash loans           M            N   \n",
       "1      100003       0         Cash loans           F            N   \n",
       "2      100004       0    Revolving loans           M            Y   \n",
       "3      100006       0         Cash loans           F            N   \n",
       "4      100007       0         Cash loans           M            N   \n",
       "\n",
       "  FLAG_OWN_REALTY  CNT_CHILDREN  AMT_INCOME_TOTAL  AMT_CREDIT  AMT_ANNUITY  \\\n",
       "0               Y             0          202500.0    406597.5      24700.5   \n",
       "1               N             0          270000.0   1293502.5      35698.5   \n",
       "2               Y             0           67500.0    135000.0       6750.0   \n",
       "3               Y             0          135000.0    312682.5      29686.5   \n",
       "4               Y             0          121500.0    513000.0      21865.5   \n",
       "\n",
       "   ...  FLAG_DOCUMENT_18 FLAG_DOCUMENT_19 FLAG_DOCUMENT_20 FLAG_DOCUMENT_21  \\\n",
       "0  ...                 0                0                0                0   \n",
       "1  ...                 0                0                0                0   \n",
       "2  ...                 0                0                0                0   \n",
       "3  ...                 0                0                0                0   \n",
       "4  ...                 0                0                0                0   \n",
       "\n",
       "  AMT_REQ_CREDIT_BUREAU_HOUR AMT_REQ_CREDIT_BUREAU_DAY  \\\n",
       "0                        0.0                       0.0   \n",
       "1                        0.0                       0.0   \n",
       "2                        0.0                       0.0   \n",
       "3                        NaN                       NaN   \n",
       "4                        0.0                       0.0   \n",
       "\n",
       "   AMT_REQ_CREDIT_BUREAU_WEEK  AMT_REQ_CREDIT_BUREAU_MON  \\\n",
       "0                         0.0                        0.0   \n",
       "1                         0.0                        0.0   \n",
       "2                         0.0                        0.0   \n",
       "3                         NaN                        NaN   \n",
       "4                         0.0                        0.0   \n",
       "\n",
       "   AMT_REQ_CREDIT_BUREAU_QRT  AMT_REQ_CREDIT_BUREAU_YEAR  \n",
       "0                        0.0                         1.0  \n",
       "1                        0.0                         0.0  \n",
       "2                        0.0                         0.0  \n",
       "3                        NaN                         NaN  \n",
       "4                        0.0                         0.0  \n",
       "\n",
       "[5 rows x 122 columns]"
      ]
     },
     "execution_count": 3,
     "metadata": {},
     "output_type": "execute_result"
    }
   ],
   "source": [
    "df = homecredit.application_train()\n",
    "df.head()"
   ]
  },
  {
   "cell_type": "code",
   "execution_count": 10,
   "metadata": {},
   "outputs": [],
   "source": [
    "#homecredit.application_train().info(null_counts=True,verbose=True)"
   ]
  },
  {
   "cell_type": "markdown",
   "metadata": {},
   "source": [
    "# Validate Data Types\n",
    "\n",
    "Although types are inferred by Panda, we need to validate them, since the inferred ones may not be what you expect. \n",
    "\n",
    "For example:\n",
    "\n",
    "* NFLAG_INSURED_ON_APPROVAL : (0,1) inferred by Pandas as integer, but actually is categorical\n",
    "\n",
    "* SELLERPLACE_AREA : 4-digit code for a location, inferred by Pandas as integer, but actually is a nomimal"
   ]
  },
  {
   "cell_type": "markdown",
   "metadata": {},
   "source": [
    "## Manually Assign Data Types\n",
    "\n",
    "* The file `new_data_description_file` is used to help override the data types inferred by Pandas\n",
    "* The file contains manualy assigned Python data types for each column, in all the tables in the homecredit data set"
   ]
  },
  {
   "cell_type": "code",
   "execution_count": 6,
   "metadata": {},
   "outputs": [
    {
     "data": {
      "text/html": [
       "<div>\n",
       "<style scoped>\n",
       "    .dataframe tbody tr th:only-of-type {\n",
       "        vertical-align: middle;\n",
       "    }\n",
       "\n",
       "    .dataframe tbody tr th {\n",
       "        vertical-align: top;\n",
       "    }\n",
       "\n",
       "    .dataframe thead th {\n",
       "        text-align: right;\n",
       "    }\n",
       "</style>\n",
       "<table border=\"1\" class=\"dataframe\">\n",
       "  <thead>\n",
       "    <tr style=\"text-align: right;\">\n",
       "      <th></th>\n",
       "      <th>Row</th>\n",
       "      <th>Table</th>\n",
       "      <th>Type</th>\n",
       "    </tr>\n",
       "  </thead>\n",
       "  <tbody>\n",
       "    <tr>\n",
       "      <th>0</th>\n",
       "      <td>SK_ID_PREV</td>\n",
       "      <td>POS_CASH_balance</td>\n",
       "      <td>object</td>\n",
       "    </tr>\n",
       "    <tr>\n",
       "      <th>1</th>\n",
       "      <td>SK_ID_CURR</td>\n",
       "      <td>POS_CASH_balance</td>\n",
       "      <td>object</td>\n",
       "    </tr>\n",
       "    <tr>\n",
       "      <th>2</th>\n",
       "      <td>MONTHS_BALANCE</td>\n",
       "      <td>POS_CASH_balance</td>\n",
       "      <td>float64</td>\n",
       "    </tr>\n",
       "    <tr>\n",
       "      <th>3</th>\n",
       "      <td>CNT_INSTALMENT</td>\n",
       "      <td>POS_CASH_balance</td>\n",
       "      <td>float64</td>\n",
       "    </tr>\n",
       "    <tr>\n",
       "      <th>4</th>\n",
       "      <td>CNT_INSTALMENT_FUTURE</td>\n",
       "      <td>POS_CASH_balance</td>\n",
       "      <td>float64</td>\n",
       "    </tr>\n",
       "  </tbody>\n",
       "</table>\n",
       "</div>"
      ],
      "text/plain": [
       "                     Row             Table     Type\n",
       "0             SK_ID_PREV  POS_CASH_balance   object\n",
       "1             SK_ID_CURR  POS_CASH_balance   object\n",
       "2         MONTHS_BALANCE  POS_CASH_balance  float64\n",
       "3         CNT_INSTALMENT  POS_CASH_balance  float64\n",
       "4  CNT_INSTALMENT_FUTURE  POS_CASH_balance  float64"
      ]
     },
     "execution_count": 6,
     "metadata": {},
     "output_type": "execute_result"
    }
   ],
   "source": [
    "description = pd.read_csv('data/new_data_description_file.csv')\n",
    "description.head()"
   ]
  },
  {
   "cell_type": "markdown",
   "metadata": {},
   "source": [
    "## Override Inferred Data Types"
   ]
  },
  {
   "cell_type": "code",
   "execution_count": 7,
   "metadata": {},
   "outputs": [
    {
     "name": "stdout",
     "output_type": "stream",
     "text": [
      "POS_CASH_balance\n",
      "application_train\n",
      "bureau\n",
      "bureau_balance\n",
      "credit_card_balance\n",
      "installments_payments\n",
      "previous_application\n"
     ]
    }
   ],
   "source": [
    "python_cat_dtype = 'object'\n",
    "python_num_dtype = 'float64'\n",
    "overide_dtypes = {}\n",
    "\n",
    "for table, node in homecredit._items():\n",
    "    \n",
    "    print(table)\n",
    "    \n",
    "    df = node()\n",
    "    \n",
    "    condtable = description.Table == table\n",
    "    condcat = description.Type == python_cat_dtype\n",
    "    condnum = description.Type == python_num_dtype\n",
    "        \n",
    "    catcols = description.loc[(condtable & condcat),'Row'].values.tolist()\n",
    "    numcols = description.loc[(condtable & condnum),'Row'].values.tolist()\n",
    "    \n",
    "    df[catcols] = df[catcols].astype(python_cat_dtype) \n",
    "    df[numcols] = df[numcols].astype(python_num_dtype)\n",
    "    \n",
    "    overide_dtypes[table] = description.loc[(condtable & condcat),['Row','Type']].append(description.loc[(condtable & condnum),['Row','Type']], ignore_index=True)"
   ]
  },
  {
   "cell_type": "markdown",
   "metadata": {},
   "source": [
    "# Visualize Missing Data"
   ]
  },
  {
   "cell_type": "markdown",
   "metadata": {},
   "source": [
    "## Patterns in Missing Data\n",
    "\n",
    "[missingno](https://github.com/ResidentMario/missingno) is a tool for missing data visualizations:\n",
    "\n",
    "* It allows you to get a quick visual summary of the completeness (or lack thereof) of your dataset\n",
    "* The `matrix()` function helps to detect patterns in data completion\n",
    "* Note: Tool displays 50 columns maximum"
   ]
  },
  {
   "cell_type": "code",
   "execution_count": 26,
   "metadata": {},
   "outputs": [
    {
     "data": {
      "text/html": [
       "<style>\n",
       "table {float:left}\n",
       "</style>\n"
      ],
      "text/plain": [
       "<IPython.core.display.HTML object>"
      ]
     },
     "metadata": {},
     "output_type": "execute_result"
    }
   ],
   "source": [
    "%%html\n",
    "<style>\n",
    "table {float:left}\n",
    "</style>"
   ]
  },
  {
   "cell_type": "markdown",
   "metadata": {},
   "source": [
    "* Each of the following represent: Normalized information about building where the client lives, but more than 50% is missing data. See [Data Description](data/HomeCredit_columns_description.txt). \n",
    "\n",
    "|Columns| Total|Percent|\n",
    "|---|---|---|\n",
    "|FONDKAPREMONT_MODE| 156341 |50.840783 \n",
    "|WALLSMATERIAL_MODE| 154297 |50.176091 \n",
    "|WALLSMATERIAL_MODE| 154297 |50.176091 \n",
    "|EMERGENCYSTATE_MODE|145755|47.398304"
   ]
  },
  {
   "cell_type": "markdown",
   "metadata": {},
   "source": [
    "Let's see how this data looks using the missingno tool compared to other variables with less missing information."
   ]
  },
  {
   "cell_type": "markdown",
   "metadata": {},
   "source": [
    "### Table: Application"
   ]
  },
  {
   "cell_type": "code",
   "execution_count": 5,
   "metadata": {},
   "outputs": [
    {
     "data": {
      "text/plain": [
       "<matplotlib.axes._subplots.AxesSubplot at 0x121168080>"
      ]
     },
     "execution_count": 5,
     "metadata": {},
     "output_type": "execute_result"
    },
    {
     "data": {
      "image/png": "[encoded data removed]",
      "text/plain": [
       "<Figure size 1800x720 with 2 Axes>"
      ]
     },
     "metadata": {
      "needs_background": "light"
     },
     "output_type": "display_data"
    }
   ],
   "source": [
    "table = 'application_train'\n",
    "df = homecredit[table]().loc[:,['FONDKAPREMONT_MODE','WALLSMATERIAL_MODE','WALLSMATERIAL_MODE',\n",
    "                          'EMERGENCYSTATE_MODE', 'OCCUPATION_TYPE', 'NAME_TYPE_SUITE']]\n",
    "\n",
    "msno.matrix(df) "
   ]
  },
  {
   "cell_type": "markdown",
   "metadata": {},
   "source": [
    "### Table : Previous Application"
   ]
  },
  {
   "cell_type": "code",
   "execution_count": 6,
   "metadata": {},
   "outputs": [
    {
     "data": {
      "text/plain": [
       "<matplotlib.axes._subplots.AxesSubplot at 0x12b2b6278>"
      ]
     },
     "execution_count": 6,
     "metadata": {},
     "output_type": "execute_result"
    },
    {
     "data": {
      "image/png": "[encoded data removed]",
      "text/plain": [
       "<Figure size 1800x720 with 2 Axes>"
      ]
     },
     "metadata": {
      "needs_background": "light"
     },
     "output_type": "display_data"
    }
   ],
   "source": [
    "table = 'previous_application'\n",
    "df = homecredit[table]().loc[:,['NAME_TYPE_SUITE','NFLAG_INSURED_ON_APPROVAL','PRODUCT_COMBINATION']]\n",
    "msno.matrix(df) "
   ]
  },
  {
   "cell_type": "markdown",
   "metadata": {},
   "source": [
    "## Percent Missing \n",
    "\n",
    "If you need to see the missing data for than 50 columns, a table will help. \n",
    "\n",
    "* Experiment with the `threshold` variable below (a whole number) to decide which columns have a high percentage of missing values."
   ]
  },
  {
   "cell_type": "code",
   "execution_count": 34,
   "metadata": {},
   "outputs": [
    {
     "name": "stdout",
     "output_type": "stream",
     "text": [
      "\n",
      "Table: POS_CASH_balance\n",
      "Empty DataFrame\n",
      "Columns: [Total, Perc_Missing]\n",
      "Index: []\n",
      "\n",
      "Table: application_train\n",
      "                           Total  Perc_Missing\n",
      "COMMONAREA_MEDI           214865     69.872297\n",
      "COMMONAREA_AVG            214865     69.872297\n",
      "COMMONAREA_MODE           214865     69.872297\n",
      "NONLIVINGAPARTMENTS_MODE  213514     69.432963\n",
      "NONLIVINGAPARTMENTS_AVG   213514     69.432963\n",
      "NONLIVINGAPARTMENTS_MEDI  213514     69.432963\n",
      "FONDKAPREMONT_MODE        210295     68.386172\n",
      "LIVINGAPARTMENTS_MODE     210199     68.354953\n",
      "LIVINGAPARTMENTS_AVG      210199     68.354953\n",
      "LIVINGAPARTMENTS_MEDI     210199     68.354953\n",
      "FLOORSMIN_AVG             208642     67.848630\n",
      "FLOORSMIN_MODE            208642     67.848630\n",
      "FLOORSMIN_MEDI            208642     67.848630\n",
      "YEARS_BUILD_MEDI          204488     66.497784\n",
      "YEARS_BUILD_MODE          204488     66.497784\n",
      "YEARS_BUILD_AVG           204488     66.497784\n",
      "OWN_CAR_AGE               202929     65.990810\n",
      "LANDAREA_MEDI             182590     59.376738\n",
      "LANDAREA_MODE             182590     59.376738\n",
      "LANDAREA_AVG              182590     59.376738\n",
      "BASEMENTAREA_MEDI         179943     58.515956\n",
      "BASEMENTAREA_AVG          179943     58.515956\n",
      "BASEMENTAREA_MODE         179943     58.515956\n",
      "EXT_SOURCE_1              173378     56.381073\n",
      "NONLIVINGAREA_MODE        169682     55.179164\n",
      "NONLIVINGAREA_AVG         169682     55.179164\n",
      "NONLIVINGAREA_MEDI        169682     55.179164\n",
      "ELEVATORS_MEDI            163891     53.295980\n",
      "ELEVATORS_AVG             163891     53.295980\n",
      "ELEVATORS_MODE            163891     53.295980\n",
      "WALLSMATERIAL_MODE        156341     50.840783\n",
      "APARTMENTS_MEDI           156061     50.749729\n",
      "APARTMENTS_AVG            156061     50.749729\n",
      "APARTMENTS_MODE           156061     50.749729\n",
      "ENTRANCES_MEDI            154828     50.348768\n",
      "ENTRANCES_AVG             154828     50.348768\n",
      "ENTRANCES_MODE            154828     50.348768\n",
      "LIVINGAREA_AVG            154350     50.193326\n",
      "LIVINGAREA_MODE           154350     50.193326\n",
      "LIVINGAREA_MEDI           154350     50.193326\n",
      "HOUSETYPE_MODE            154297     50.176091\n",
      "\n",
      "Table: bureau\n",
      "                          Total  Perc_Missing\n",
      "AMT_ANNUITY             1226791     71.473490\n",
      "AMT_CREDIT_MAX_OVERDUE  1124488     65.513264\n",
      "\n",
      "Table: bureau_balance\n",
      "Empty DataFrame\n",
      "Columns: [Total, Perc_Missing]\n",
      "Index: []\n",
      "\n",
      "Table: credit_card_balance\n",
      "Empty DataFrame\n",
      "Columns: [Total, Perc_Missing]\n",
      "Index: []\n",
      "\n",
      "Table: installments_payments\n",
      "Empty DataFrame\n",
      "Columns: [Total, Perc_Missing]\n",
      "Index: []\n",
      "\n",
      "Table: previous_application\n",
      "                            Total  Perc_Missing\n",
      "RATE_INTEREST_PRIVILEGED  1664263     99.643698\n",
      "RATE_INTEREST_PRIMARY     1664263     99.643698\n",
      "AMT_DOWN_PAYMENT           895844     53.636480\n",
      "RATE_DOWN_PAYMENT          895844     53.636480\n"
     ]
    }
   ],
   "source": [
    "threshold = 50 # integer percent\n",
    "s = Template(\"\"\" Perc_Missing >= ${threshold} \"\"\")\n",
    "    \n",
    "for table, node in homecredit._items():\n",
    "    \n",
    "    print('\\nTable: {}'.format(table))\n",
    "    df = node()   \n",
    "    targetcols = [*df.columns.values]\n",
    "    print(percent_missing(df, targetcols).query(s.substitute(threshold=threshold)))"
   ]
  },
  {
   "cell_type": "markdown",
   "metadata": {},
   "source": [
    "# Discussion: Handling Missing Data\n",
    "\n",
    "The options for handling missing data depends on a number of factors: \n",
    "including the [type of missing data](https://www.displayr.com/different-types-of-missing-data/). Some options to handle missing data are:\n",
    "\n",
    "* Drop columns with a high percentage of missing values\n",
    "\n",
    "* Delete rows that have missing data\n",
    "\n",
    "* Impute: fill in missing values: [Impute Strategies](https://towardsdatascience.com/6-different-ways-to-compensate-for-missing-values-data-imputation-with-examples-6022d9ca0779)\n",
    "\n",
    "* Use an algorithm, such as [XGBoost](https://towardsdatascience.com/https-medium-com-vishalmorde-xgboost-algorithm-long-she-may-rein-edd9f99be63d), less sensitive to missing data\n",
    " \n",
    "* Six different Ways https://towardsdatascience.com/6-different-ways-to-compensate-for-missing-values-data-imputation-with-examples-6022d9ca0779 \n",
    "\n",
    "\n",
    "__Discussion__\n",
    "\n",
    "* What options have you used in the past?\n",
    "* Which options would you use now?\n"
   ]
  },
  {
   "cell_type": "markdown",
   "metadata": {},
   "source": [
    "## Exercise: SimpleImpute for Categorical"
   ]
  },
  {
   "cell_type": "markdown",
   "metadata": {
    "solution": "shown",
    "solution2": "hidden",
    "solution2_first": true,
    "solution_first": true
   },
   "source": [
    "___<font color=red> Exercise 2.</font>___ Assume that the missing categorical values can be imputed with the dedicatd symbol '999' that is not present in the data set. Use the Python [Simple Imputer](https://scikit-learn.org/stable/modules/generated/sklearn.impute.SimpleImputer.html#sklearn.impute.SimpleImputer.transform) to fill in the missing categorical values with this symbol. \n",
    "* verify the return imputated result."
   ]
  },
  {
   "cell_type": "code",
   "execution_count": 70,
   "metadata": {
    "solution": "shown",
    "solution2": "hidden"
   },
   "outputs": [
    {
     "name": "stdout",
     "output_type": "stream",
     "text": [
      "Unimputed values: [None 'Unaccompanied' 'Spouse, partner' ... 'Spouse, partner' 'Family'\n",
      " 'Family'] \n",
      "Imputed values: [['999']\n",
      " ['Unaccompanied']\n",
      " ['Spouse, partner']\n",
      " ...\n",
      " ['Spouse, partner']\n",
      " ['Family']\n",
      " ['Family']] \n"
     ]
    }
   ],
   "source": [
    "fillin = '999'\n",
    "table = 'previous_application'\n",
    "col = 'NAME_TYPE_SUITE'\n",
    "\n",
    "df = homecredit.previous_application()[col]\n",
    "print('Unimputed values: {} '.format(df.values))\n",
    "\n",
    "simputer = SimpleImputer(missing_values=None,strategy=\"constant\", fill_value=fillin, verbose= True)\n",
    "simputer.fit(df.values.reshape(-1,1))\n",
    "newsimputer = simputer.transform(df.values.reshape(-1,1)) \n",
    "print('Imputed values: {} '.format(newsimputer))"
   ]
  },
  {
   "cell_type": "code",
   "execution_count": 66,
   "metadata": {
    "solution": "shown",
    "solution2": "hidden"
   },
   "outputs": [
    {
     "name": "stdout",
     "output_type": "stream",
     "text": [
      "[['999']\n",
      " ['Unaccompanied']\n",
      " ['Spouse, partner']\n",
      " ...\n",
      " ['Spouse, partner']\n",
      " ['Family']\n",
      " ['Family']]\n"
     ]
    }
   ],
   "source": [
    "\n"
   ]
  },
  {
   "cell_type": "markdown",
   "metadata": {},
   "source": [
    "## Neural Net to Impute Categorical\n",
    "\n",
    "* [Datawig](https://datawig.readthedocs.io/en/latest/source/userguide.html) deep learning imputation approach. \n",
    "\n",
    "Some Advances:\n",
    "* takes a dataframe as input \n",
    "* impute categorical, as well as non-numerical data: including unstructured text and categorical data\n",
    "* performs hyperparameter optimization\n",
    "* can select columns on which to train\n",
    "* scales, unlike imputing with KNN\n",
    "\n",
    "* Check how well a imputation strategy works on the 'previous_application' table for the `PRODUCT_COMBINATION` in the [Impute Categorical with DataWig](Impute%20Categorical%20DataWig.ipynb) notebook\n"
   ]
  },
  {
   "cell_type": "markdown",
   "metadata": {},
   "source": [
    "# Impute Numericals : Advanced Exercise\n",
    "\n",
    "Have a look at the DataWig example for [imputing numerical values](https://github.com/awslabs/datawig/blob/master/README.md#imputation-of-numerical-columns), then use the Homecredit data to impute a numerical column."
   ]
  }
 ],
 "metadata": {
  "kernelspec": {
   "display_name": "Data Preparation and  Visualization",
   "language": "python",
   "name": "data-prep-env"
  },
  "language_info": {
   "codemirror_mode": {
    "name": "ipython",
    "version": 3
   },
   "file_extension": ".py",
   "mimetype": "text/x-python",
   "name": "python",
   "nbconvert_exporter": "python",
   "pygments_lexer": "ipython3",
   "version": "3.7.3"
  },
  "toc": {
   "base_numbering": 1,
   "nav_menu": {
    "height": "581px",
    "width": "395px"
   },
   "number_sections": true,
   "sideBar": true,
   "skip_h1_title": false,
   "title_cell": "Table of Contents",
   "title_sidebar": "Contents",
   "toc_cell": false,
   "toc_position": {
    "height": "calc(100% - 180px)",
    "left": "10px",
    "top": "150px",
    "width": "245.016px"
   },
   "toc_section_display": true,
   "toc_window_display": true
  },
  "varInspector": {
   "cols": {
    "lenName": 16,
    "lenType": 16,
    "lenVar": 40
   },
   "kernels_config": {
    "python": {
     "delete_cmd_postfix": "",
     "delete_cmd_prefix": "del ",
     "library": "var_list.py",
     "varRefreshCmd": "print(var_dic_list())"
    },
    "r": {
     "delete_cmd_postfix": ") ",
     "delete_cmd_prefix": "rm(",
     "library": "var_list.r",
     "varRefreshCmd": "cat(var_dic_list()) "
    }
   },
   "position": {
    "height": "480px",
    "left": "1300px",
    "right": "20px",
    "top": "119px",
    "width": "381px"
   },
   "types_to_exclude": [
    "module",
    "function",
    "builtin_function_or_method",
    "instance",
    "_Feature"
   ],
   "window_display": false
  }
 },
 "nbformat": 4,
 "nbformat_minor": 4
}
